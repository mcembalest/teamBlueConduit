{
 "cells": [
  {
   "cell_type": "code",
   "execution_count": 2,
   "id": "f96d2a51",
   "metadata": {},
   "outputs": [],
   "source": [
    "# from numpy.linalg import inv\n",
    "# from scipy import misc\n",
    "\n",
    "# import numpy as np\n",
    "# import matplotlib.pyplot as plt\n",
    "# import math\n",
    "# import pandas as pd\n",
    "# import geopandas as gpd\n",
    "\n",
    "# from shapely.geometry import Point\n",
    "\n",
    "# import sklearn.preprocessing\n",
    "\n",
    "# from sklearn.model_selection import train_test_split, GridSearchCV, GroupShuffleSplit, RepeatedStratifiedKFold\n",
    "# from sklearn.metrics import precision_score, recall_score, roc_auc_score\n",
    "from customGP import GaussianProcess\n",
    "\n",
    "\n",
    "from dataloader import get_train_test\n"
   ]
  },
  {
   "cell_type": "code",
   "execution_count": 3,
   "id": "bfa42c74",
   "metadata": {},
   "outputs": [],
   "source": [
    "x_train, x_test, y_train, y_test = get_train_test(1000)"
   ]
  },
  {
   "cell_type": "code",
   "execution_count": 4,
   "id": "72856cc5",
   "metadata": {},
   "outputs": [
    {
     "data": {
      "text/plain": [
       "array([[ 43.030031 , -83.716307 ],\n",
       "       [ 43.031349 , -83.73298  ],\n",
       "       [ 43.036881 , -83.656913 ],\n",
       "       ...,\n",
       "       [ 43.071978 , -83.72185  ],\n",
       "       [ 42.998548 , -83.660363 ],\n",
       "       [ 43.03144  , -83.6397269]])"
      ]
     },
     "execution_count": 4,
     "metadata": {},
     "output_type": "execute_result"
    }
   ],
   "source": [
    "x_train"
   ]
  },
  {
   "cell_type": "code",
   "execution_count": 5,
   "id": "cf534542",
   "metadata": {},
   "outputs": [],
   "source": [
    "def get_custom_gp(X, y):\n",
    "    GP = GaussianProcess(n_restarts=10, optimizer='L-BFGS-B')\n",
    "    GP.fit(X, y.reshape(-1,1))\n",
    "    return GP"
   ]
  },
  {
   "cell_type": "code",
   "execution_count": null,
   "id": "d6b66a33",
   "metadata": {},
   "outputs": [],
   "source": [
    "def plot_model(ax, model, X, y, title, decision_boundary = None, custom_gp = False):\n",
    "    \n",
    "    h = .02  # step size in the mesh\n",
    "\n",
    "    x_min, x_max = X[:, 0].min() - .01, X[:, 0].max() + .01\n",
    "    y_min, y_max = X[:, 1].min() - .01, X[:, 1].max() + .01\n",
    "    xx, yy = np.meshgrid(np.arange(x_min, x_max, h),\n",
    "                         np.arange(y_min, y_max, h))\n",
    "\n",
    "    # predict on the mesh\n",
    "    x1v, x2v = np.meshgrid(np.linspace(x_min, x_max,100), np.linspace(y_min, y_max,100))\n",
    "    xgrid = np.c_[x1v.ravel(), x2v.ravel()]\n",
    "    \n",
    "    if custom_gp:\n",
    "        ygrid_prob, _ = model.predict(xgrid)\n",
    "        ygrid_prob = ygrid_prob.reshape(x1v.shape)\n",
    "        \n",
    "        ax.set_title(title)\n",
    "    else:\n",
    "#         ygrid = model.predict(xgrid).reshape(x1v.shape)\n",
    "        ygrid_prob = model.predict_proba(xgrid)[:,1].reshape(x1v.shape)\n",
    "        \n",
    "        ax.set_title(title + '\\n' + f\"log marginal likelihood={model.log_marginal_likelihood(model.kernel_.theta)}\")\n",
    "    \n",
    "    ax.pcolormesh(x1v, x2v, ygrid_prob,alpha = 0.8, shading='auto')\n",
    "\n",
    "    dangerous_indices = [i for i in range(len(y)) if y[i]==1]\n",
    "    safe_indices = [i for i in range(len(y)) if y[i]==0]\n",
    "\n",
    "    ax.scatter(X[dangerous_indices,0], X[dangerous_indices,1], marker= 'x', s=200)\n",
    "    ax.scatter(X[safe_indices,0], X[safe_indices,1], marker= 'o', s=200, alpha=.1)\n",
    "    \n",
    "    # decision boundary\n",
    "    if decision_boundary:\n",
    "        cs = ax.contour(x1v, x2v, ygrid_prob, levels=[decision_boundary], colors='black', linestyles='dashed', linewidths=2)\n",
    "        ax.clabel(cs, fontsize=20)\n",
    "\n",
    "    ax.set_xlabel('Latitude')\n",
    "    ax.set_ylabel('Longitude')\n",
    "    ax.set_xlim(xx.min(), xx.max())\n",
    "    ax.set_ylim(yy.min(), yy.max())"
   ]
  },
  {
   "cell_type": "code",
   "execution_count": null,
   "id": "59e1423c",
   "metadata": {},
   "outputs": [],
   "source": []
  }
 ],
 "metadata": {
  "kernelspec": {
   "display_name": "Python 3",
   "language": "python",
   "name": "python3"
  },
  "language_info": {
   "codemirror_mode": {
    "name": "ipython",
    "version": 3
   },
   "file_extension": ".py",
   "mimetype": "text/x-python",
   "name": "python",
   "nbconvert_exporter": "python",
   "pygments_lexer": "ipython3",
   "version": "3.8.8"
  }
 },
 "nbformat": 4,
 "nbformat_minor": 5
}
