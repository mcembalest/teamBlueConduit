{
 "cells": [
  {
   "cell_type": "code",
   "execution_count": 1,
   "id": "2d2b5617-0b05-468c-b44c-093767ade42e",
   "metadata": {},
   "outputs": [],
   "source": [
    "import pandas as pd\n",
    "import geopandas as gpd\n",
    "\n",
    "from sklearn.model_selection import train_test_split, GroupShuffleSplit\n",
    "from sklearn.metrics import precision_score, recall_score, roc_auc_score\n",
    "\n",
    "import xgboost"
   ]
  },
  {
   "cell_type": "code",
   "execution_count": 2,
   "id": "0081f6f5-a8fc-42b8-b416-66b80439d295",
   "metadata": {},
   "outputs": [],
   "source": [
    "# Shape files truncate column names.  This dictionary is used to restore the whole names.\n",
    "\n",
    "col_name_dictionary = {'pid': 'pid', 'Property Z': 'Property Zip Code', 'Owner Type': 'Owner Type',\n",
    "                       'Owner Stat': 'Owner State', 'Homestead': 'Homestead', 'Homestea_1': 'Homestead Percent',\n",
    "                       'HomeSEV': 'HomeSEV', 'Land Value': 'Land Value', 'Land Impro': 'Land Improvements Value',\n",
    "                       'Residentia': 'Residential Building Value', 'Resident_1': 'Residential Building Style',\n",
    "                       'Commercial': 'Commercial Building Value', 'Building S': 'Building Storeys',\n",
    "                       'Parcel Acr': 'Parcel Acres', 'Rental': 'Rental', 'Use Type': 'Use Type',\n",
    "                       'Prop Class': 'Prop Class', 'Old Prop c': 'Old Prop class', 'Year Built': 'Year Built',\n",
    "                       'USPS Vacan': 'USPS Vacancy', 'Zoning': 'Zoning', 'Future Lan': 'Future Landuse',\n",
    "                       'DRAFT Zone': 'DRAFT Zone', 'Housing Co': 'Housing Condition 2012',\n",
    "                       'Housing _1': 'Housing Condition 2014', 'Commerci_1': 'Commercial Condition 2013',\n",
    "                       'Latitude': 'Latitude', 'Longitude': 'Longitude', 'Hydrant Ty': 'Hydrant Type',\n",
    "                       'Ward': 'Ward', 'PRECINCT': 'PRECINCT', 'CENTRACT': 'CENTRACT', 'CENBLOCK': 'CENBLOCK',\n",
    "                       'SL_Type': 'SL_Type', 'SL_Type2': 'SL_Type2', 'SL_Lead': 'SL_Lead', 'Ed_July': 'Ed_July',\n",
    "                       'Ed_March': 'Ed_March', 'Last_Test': 'Last_Test', 'Max_Lead': 'Max_Lead',\n",
    "                       'Med_Lead': 'Med_Lead', 'Num_Tests': 'Num_Tests', 'Res_Test': 'Res_Test',\n",
    "                       'Sen_Test': 'Sen_Test', 'SL_private': 'SL_private_inspection',\n",
    "                       'B_median_a': 'B_median_age_all_women', 'B_median_1': 'B_median_age_all_men', \n",
    "                       'B_median_2': 'B_median_age_all', 'B_median_3': 'B_median_age_all_women_white',\n",
    "                       'B_median_4': 'B_median_age_all_men_white', 'B_median_5': 'B_median_age_all_white',\n",
    "                       'B_median_6': 'B_median_age_all_women_black', 'B_median_7': 'B_median_age_all_men_black',\n",
    "                       'B_median_8': 'B_median_age_all_black', 'B_total_bl': 'B_total_black_pop',\n",
    "                       'B_total_wh': 'B_total_white_pop', 'B_married_': 'B_married_couples',\n",
    "                       'B_single_w': 'B_single_women', 'B_marrie_1': 'B_married_couples_white',\n",
    "                       'B_single_1': 'B_single_women_white', 'B_marrie_2': 'B_married_couples_black',\n",
    "                       'B_single_2': 'B_single_women_black', 'B_marrie_3': 'B_married_couples_w_children',\n",
    "                       'B_single_m': 'B_single_mothers_w_children', 'B_househol': 'B_households_w_elderly',\n",
    "                       'B_househod': 'B_househod_no_elderly', 'B_aggregat': 'B_aggregate_income',\n",
    "                       'B_speak_sp': 'B_speak_spanish', 'B_speak_on': 'B_speak_only_english',\n",
    "                       'B_no_engli': 'B_no_english', 'B_hispanic': 'B_hispanic_household',\n",
    "                       'B_imputed_': 'B_imputed_rent', 'B_impute_1': 'B_imputed_value',\n",
    "                       'known_priv': 'known_private_sl', 'known_publ': 'known_public_sl', 'hydrovac': 'hydrovac',\n",
    "                       'sl_priva_1': 'sl_private_type', 'sl_public_': 'sl_public_type', 'created_at': 'created_at',\n",
    "                       'source': 'source', 'hv_visit': 'hv_visit', 'sl_visit': 'sl_visit', 'replaced': 'replaced',\n",
    "                       'dangerous': 'dangerous', 'geometry': 'geometry'}"
   ]
  },
  {
   "cell_type": "code",
   "execution_count": 7,
   "id": "cf1ccef8-4804-44cb-9b90-a7c28eb6345f",
   "metadata": {},
   "outputs": [],
   "source": [
    "# Update path to the new shapefile I sent.\n",
    "\n",
    "sl_df = gpd.read_file('../data/raw/flint_sl_materials/')\n",
    "sl_df = sl_df.rename(col_name_dictionary, axis=1)"
   ]
  },
  {
   "cell_type": "code",
   "execution_count": 13,
   "id": "aba5910b-7873-4dae-b501-7a071b6f4ec9",
   "metadata": {},
   "outputs": [],
   "source": [
    "# Drop columns that aren't used by the classifier\n",
    "\n",
    "drop_cols = ['known_private_sl', 'known_public_sl', 'hydrovac', 'created_at', 'source',\n",
    "             'hv_visit', 'sl_visit', 'replaced', 'geometry', \n",
    "            'Latitude', 'Longitude']\n",
    "\n",
    "data = sl_df.drop(drop_cols, axis = 1)\n",
    "\n",
    "# Only keep labelled data\n",
    "data = data[~pd.isnull(data.dangerous)].reset_index()\n",
    "\n",
    "# Drop everything except target from training data\n",
    "Xdata = data.drop(['pid', 'sl_private_type', 'sl_public_type', 'dangerous'], axis = 1)\n",
    "\n",
    "# Build target.  Each 'dangerous' is True when sl_private_type OR sl_public_type contain lead.\n",
    "Ydata = data[['sl_private_type', 'sl_public_type', 'dangerous']]\n",
    "\n",
    "\n",
    "dummy_cols = ['Property Zip Code', 'Owner Type', 'Residential Building Style', 'Homestead', 'Building Storeys',\n",
    "              'Rental', 'Use Type', 'Prop Class', 'Old Prop class', 'USPS Vacancy', 'Housing Condition 2012',\n",
    "              'Housing Condition 2014', 'Owner State', 'Zoning', 'Future Landuse', 'Commercial Condition 2013',\n",
    "              'Hydrant Type', 'SL_Type', 'SL_Type2', 'DRAFT Zone', 'Last_Test', 'SL_private_inspection', 'Ward',\n",
    "              'CENTRACT', 'CENBLOCK']#, 'PRECINCT']\n",
    "\n",
    "# Fill missing data\n",
    "Xdata = Xdata.fillna(-1)\n",
    "\n",
    "# Create dummies from categorical columns\n",
    "Xdata = pd.get_dummies(Xdata, columns=dummy_cols)\n",
    "\n",
    "# Groups for spatial cross validation\n",
    "groups = Xdata['PRECINCT']\n",
    "Xdata = Xdata.drop('PRECINCT', axis=1)"
   ]
  },
  {
   "cell_type": "code",
   "execution_count": 25,
   "id": "c5cb3582-dfd1-42cf-a240-b68c604eaa47",
   "metadata": {},
   "outputs": [],
   "source": [
    "# Group Shuffle Split example.  train_test_split could go here, but we like spatial cross validation \n",
    "# better than a uniform random sample.\n",
    "gss = GroupShuffleSplit(n_splits=3, train_size=.75, random_state=42)\n",
    "\n",
    "for train_idx, test_idx in gss.split(Xdata, Ydata, groups):\n",
    "    train_index = train_idx\n",
    "    test_index = test_idx\n",
    "    break\n",
    "\n",
    "Xtrain = Xdata.loc[train_index]\n",
    "Xtest = Xdata.loc[test_index]\n",
    "Ytrain = Ydata.loc[train_index.tolist()]\n",
    "Ytest = Ydata.loc[test_index.tolist()]"
   ]
  },
  {
   "cell_type": "code",
   "execution_count": 26,
   "id": "ed199168-1420-413e-bd63-e81d0fda959d",
   "metadata": {},
   "outputs": [
    {
     "name": "stderr",
     "output_type": "stream",
     "text": [
      "/home/kchare/.local/lib/python3.8/site-packages/xgboost/sklearn.py:1146: UserWarning: The use of label encoder in XGBClassifier is deprecated and will be removed in a future release. To remove this warning, do the following: 1) Pass option use_label_encoder=False when constructing XGBClassifier object; and 2) Encode your labels (y) as integers starting with 0, i.e. 0, 1, 2, ..., [num_class - 1].\n",
      "  warnings.warn(label_encoder_deprecation_msg, UserWarning)\n"
     ]
    },
    {
     "name": "stdout",
     "output_type": "stream",
     "text": [
      "[03:22:54] WARNING: ../src/learner.cc:1095: Starting in XGBoost 1.3.0, the default evaluation metric used with the objective 'binary:logistic' was changed from 'error' to 'logloss'. Explicitly set eval_metric if you'd like to restore the old behavior.\n"
     ]
    }
   ],
   "source": [
    "# Train an xgboost classifier\n",
    "xgb = xgboost.XGBClassifier()\n",
    "\n",
    "xgb.fit(Xtrain, Ytrain['dangerous'])\n",
    "yhat = xgb.predict_proba(Xtest)"
   ]
  },
  {
   "cell_type": "code",
   "execution_count": 27,
   "id": "18ed374a-f6af-4b70-a804-5f36bb00f93d",
   "metadata": {},
   "outputs": [
    {
     "data": {
      "text/plain": [
       "0.9707374239472788"
      ]
     },
     "execution_count": 27,
     "metadata": {},
     "output_type": "execute_result"
    }
   ],
   "source": [
    "# Measure predictive power.  This is roc score, but any metric could go here.\n",
    "\n",
    "roc_auc_score(Ytest['dangerous'], yhat[:,1])"
   ]
  },
  {
   "cell_type": "code",
   "execution_count": 31,
   "id": "c2a13030-9646-40e9-b0e1-f30cea34ab84",
   "metadata": {},
   "outputs": [],
   "source": [
    "## ADDED BY KEVIN HARE (9/26/2021)\n",
    "import numpy as np\n",
    "np.savez('../data/predictions/baseline_preds.npz', yhat=yhat, ytrue=Ytest['dangerous'])\n",
    "xgb.save_model('../models/baseline_jared_20210921.json')"
   ]
  },
  {
   "cell_type": "code",
   "execution_count": null,
   "id": "offshore-emission",
   "metadata": {},
   "outputs": [],
   "source": []
  }
 ],
 "metadata": {
  "kernelspec": {
   "display_name": "Python 3",
   "language": "python",
   "name": "python3"
  },
  "language_info": {
   "codemirror_mode": {
    "name": "ipython",
    "version": 3
   },
   "file_extension": ".py",
   "mimetype": "text/x-python",
   "name": "python",
   "nbconvert_exporter": "python",
   "pygments_lexer": "ipython3",
   "version": "3.8.5"
  }
 },
 "nbformat": 4,
 "nbformat_minor": 5
}
