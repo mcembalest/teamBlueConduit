{
 "cells": [
  {
   "cell_type": "code",
   "execution_count": null,
   "metadata": {
    "id": "YarFW-Wym2ms"
   },
   "outputs": [],
   "source": [
    "from google.colab import drive\n",
    "drive.mount('/content/drive')"
   ]
  },
  {
   "cell_type": "code",
   "execution_count": null,
   "metadata": {
    "colab": {
     "base_uri": "https://localhost:8080/",
     "height": 1000
    },
    "id": "zOUE8_TWB1Y_",
    "outputId": "ccb8c197-8b5f-495a-eef0-28723c8779d4"
   },
   "outputs": [
    {
     "name": "stdout",
     "output_type": "stream",
     "text": [
      "Cloning into 'teamBlueConduit'...\n",
      "remote: Enumerating objects: 336, done.\u001b[K\n",
      "remote: Counting objects: 100% (336/336), done.\u001b[K\n",
      "remote: Compressing objects: 100% (232/232), done.\u001b[K\n",
      "remote: Total 336 (delta 155), reused 240 (delta 87), pack-reused 0\u001b[K\n",
      "Receiving objects: 100% (336/336), 37.71 MiB | 29.14 MiB/s, done.\n",
      "Resolving deltas: 100% (155/155), done.\n",
      "/content/teamBlueConduit\n",
      "running install\n",
      "running bdist_egg\n",
      "running egg_info\n",
      "creating BlueConduitSpatial.egg-info\n",
      "writing BlueConduitSpatial.egg-info/PKG-INFO\n",
      "writing dependency_links to BlueConduitSpatial.egg-info/dependency_links.txt\n",
      "writing top-level names to BlueConduitSpatial.egg-info/top_level.txt\n",
      "writing manifest file 'BlueConduitSpatial.egg-info/SOURCES.txt'\n",
      "writing manifest file 'BlueConduitSpatial.egg-info/SOURCES.txt'\n",
      "installing library code to build/bdist.linux-x86_64/egg\n",
      "running install_lib\n",
      "running build_py\n",
      "creating build\n",
      "creating build/lib\n",
      "creating build/lib/blue_conduit_spatial\n",
      "copying blue_conduit_spatial/__init__.py -> build/lib/blue_conduit_spatial\n",
      "creating build/lib/blue_conduit_spatial/distance_matrix\n",
      "copying blue_conduit_spatial/distance_matrix/road_distances.py -> build/lib/blue_conduit_spatial/distance_matrix\n",
      "copying blue_conduit_spatial/distance_matrix/distance_matrix.py -> build/lib/blue_conduit_spatial/distance_matrix\n",
      "copying blue_conduit_spatial/distance_matrix/__init__.py -> build/lib/blue_conduit_spatial/distance_matrix\n",
      "creating build/lib/blue_conduit_spatial/utilities\n",
      "copying blue_conduit_spatial/utilities/__init__.py -> build/lib/blue_conduit_spatial/utilities\n",
      "copying blue_conduit_spatial/utilities/data_utils.py -> build/lib/blue_conduit_spatial/utilities\n",
      "copying blue_conduit_spatial/utilities/metadata.py -> build/lib/blue_conduit_spatial/utilities\n",
      "creating build/lib/blue_conduit_spatial/evaluation\n",
      "copying blue_conduit_spatial/evaluation/evaluation_plots.py -> build/lib/blue_conduit_spatial/evaluation\n",
      "copying blue_conduit_spatial/evaluation/__init__.py -> build/lib/blue_conduit_spatial/evaluation\n",
      "copying blue_conduit_spatial/evaluation/evaluate.py -> build/lib/blue_conduit_spatial/evaluation\n",
      "creating build/bdist.linux-x86_64\n",
      "creating build/bdist.linux-x86_64/egg\n",
      "creating build/bdist.linux-x86_64/egg/blue_conduit_spatial\n",
      "creating build/bdist.linux-x86_64/egg/blue_conduit_spatial/distance_matrix\n",
      "copying build/lib/blue_conduit_spatial/distance_matrix/road_distances.py -> build/bdist.linux-x86_64/egg/blue_conduit_spatial/distance_matrix\n",
      "copying build/lib/blue_conduit_spatial/distance_matrix/distance_matrix.py -> build/bdist.linux-x86_64/egg/blue_conduit_spatial/distance_matrix\n",
      "copying build/lib/blue_conduit_spatial/distance_matrix/__init__.py -> build/bdist.linux-x86_64/egg/blue_conduit_spatial/distance_matrix\n",
      "copying build/lib/blue_conduit_spatial/__init__.py -> build/bdist.linux-x86_64/egg/blue_conduit_spatial\n",
      "creating build/bdist.linux-x86_64/egg/blue_conduit_spatial/utilities\n",
      "copying build/lib/blue_conduit_spatial/utilities/__init__.py -> build/bdist.linux-x86_64/egg/blue_conduit_spatial/utilities\n",
      "copying build/lib/blue_conduit_spatial/utilities/data_utils.py -> build/bdist.linux-x86_64/egg/blue_conduit_spatial/utilities\n",
      "copying build/lib/blue_conduit_spatial/utilities/metadata.py -> build/bdist.linux-x86_64/egg/blue_conduit_spatial/utilities\n",
      "creating build/bdist.linux-x86_64/egg/blue_conduit_spatial/evaluation\n",
      "copying build/lib/blue_conduit_spatial/evaluation/evaluation_plots.py -> build/bdist.linux-x86_64/egg/blue_conduit_spatial/evaluation\n",
      "copying build/lib/blue_conduit_spatial/evaluation/__init__.py -> build/bdist.linux-x86_64/egg/blue_conduit_spatial/evaluation\n",
      "copying build/lib/blue_conduit_spatial/evaluation/evaluate.py -> build/bdist.linux-x86_64/egg/blue_conduit_spatial/evaluation\n",
      "byte-compiling build/bdist.linux-x86_64/egg/blue_conduit_spatial/distance_matrix/road_distances.py to road_distances.cpython-37.pyc\n",
      "byte-compiling build/bdist.linux-x86_64/egg/blue_conduit_spatial/distance_matrix/distance_matrix.py to distance_matrix.cpython-37.pyc\n",
      "byte-compiling build/bdist.linux-x86_64/egg/blue_conduit_spatial/distance_matrix/__init__.py to __init__.cpython-37.pyc\n",
      "byte-compiling build/bdist.linux-x86_64/egg/blue_conduit_spatial/__init__.py to __init__.cpython-37.pyc\n",
      "byte-compiling build/bdist.linux-x86_64/egg/blue_conduit_spatial/utilities/__init__.py to __init__.cpython-37.pyc\n",
      "byte-compiling build/bdist.linux-x86_64/egg/blue_conduit_spatial/utilities/data_utils.py to data_utils.cpython-37.pyc\n",
      "byte-compiling build/bdist.linux-x86_64/egg/blue_conduit_spatial/utilities/metadata.py to metadata.cpython-37.pyc\n",
      "byte-compiling build/bdist.linux-x86_64/egg/blue_conduit_spatial/evaluation/evaluation_plots.py to evaluation_plots.cpython-37.pyc\n",
      "byte-compiling build/bdist.linux-x86_64/egg/blue_conduit_spatial/evaluation/__init__.py to __init__.cpython-37.pyc\n",
      "byte-compiling build/bdist.linux-x86_64/egg/blue_conduit_spatial/evaluation/evaluate.py to evaluate.cpython-37.pyc\n",
      "creating build/bdist.linux-x86_64/egg/EGG-INFO\n",
      "copying BlueConduitSpatial.egg-info/PKG-INFO -> build/bdist.linux-x86_64/egg/EGG-INFO\n",
      "copying BlueConduitSpatial.egg-info/SOURCES.txt -> build/bdist.linux-x86_64/egg/EGG-INFO\n",
      "copying BlueConduitSpatial.egg-info/dependency_links.txt -> build/bdist.linux-x86_64/egg/EGG-INFO\n",
      "copying BlueConduitSpatial.egg-info/top_level.txt -> build/bdist.linux-x86_64/egg/EGG-INFO\n",
      "zip_safe flag not set; analyzing archive contents...\n",
      "creating dist\n",
      "creating 'dist/BlueConduitSpatial-0.0.0-py3.7.egg' and adding 'build/bdist.linux-x86_64/egg' to it\n",
      "removing 'build/bdist.linux-x86_64/egg' (and everything under it)\n",
      "Processing BlueConduitSpatial-0.0.0-py3.7.egg\n",
      "Copying BlueConduitSpatial-0.0.0-py3.7.egg to /usr/local/lib/python3.7/dist-packages\n",
      "Adding BlueConduitSpatial 0.0.0 to easy-install.pth file\n",
      "\n",
      "Installed /usr/local/lib/python3.7/dist-packages/BlueConduitSpatial-0.0.0-py3.7.egg\n",
      "Processing dependencies for BlueConduitSpatial==0.0.0\n",
      "Finished processing dependencies for BlueConduitSpatial==0.0.0\n",
      "Requirement already satisfied: numpy>=1.19 in /usr/local/lib/python3.7/dist-packages (from -r requirements.txt (line 2)) (1.19.5)\n",
      "Collecting pandas>=1.2\n",
      "  Downloading pandas-1.3.3-cp37-cp37m-manylinux_2_17_x86_64.manylinux2014_x86_64.whl (11.3 MB)\n",
      "\u001b[K     |████████████████████████████████| 11.3 MB 5.3 MB/s \n",
      "\u001b[?25hCollecting geopandas>=0.9.0\n",
      "  Downloading geopandas-0.10.1-py2.py3-none-any.whl (1.0 MB)\n",
      "\u001b[K     |████████████████████████████████| 1.0 MB 64.3 MB/s \n",
      "\u001b[?25hCollecting xgboost>=1.4\n",
      "  Downloading xgboost-1.4.2-py3-none-manylinux2010_x86_64.whl (166.7 MB)\n",
      "\u001b[K     |████████████████████████████████| 166.7 MB 12 kB/s \n",
      "\u001b[?25hCollecting scikit-learn>=0.24\n",
      "  Downloading scikit_learn-1.0-cp37-cp37m-manylinux_2_12_x86_64.manylinux2010_x86_64.whl (23.1 MB)\n",
      "\u001b[K     |████████████████████████████████| 23.1 MB 1.3 MB/s \n",
      "\u001b[?25hCollecting matplotlib>=3.3.0\n",
      "  Downloading matplotlib-3.4.3-cp37-cp37m-manylinux1_x86_64.whl (10.3 MB)\n",
      "\u001b[K     |████████████████████████████████| 10.3 MB 42.6 MB/s \n",
      "\u001b[?25hRequirement already satisfied: setuptools in /usr/local/lib/python3.7/dist-packages (from -r requirements.txt (line 8)) (57.4.0)\n",
      "Requirement already satisfied: pytz>=2017.3 in /usr/local/lib/python3.7/dist-packages (from pandas>=1.2->-r requirements.txt (line 3)) (2018.9)\n",
      "Requirement already satisfied: python-dateutil>=2.7.3 in /usr/local/lib/python3.7/dist-packages (from pandas>=1.2->-r requirements.txt (line 3)) (2.8.2)\n",
      "Collecting fiona>=1.8\n",
      "  Downloading Fiona-1.8.20-cp37-cp37m-manylinux1_x86_64.whl (15.4 MB)\n",
      "\u001b[K     |████████████████████████████████| 15.4 MB 73.2 MB/s \n",
      "\u001b[?25hRequirement already satisfied: shapely>=1.6 in /usr/local/lib/python3.7/dist-packages (from geopandas>=0.9.0->-r requirements.txt (line 4)) (1.7.1)\n",
      "Collecting pyproj>=2.2.0\n",
      "  Downloading pyproj-3.2.1-cp37-cp37m-manylinux2010_x86_64.whl (6.3 MB)\n",
      "\u001b[K     |████████████████████████████████| 6.3 MB 11.1 MB/s \n",
      "\u001b[?25hRequirement already satisfied: scipy in /usr/local/lib/python3.7/dist-packages (from xgboost>=1.4->-r requirements.txt (line 5)) (1.4.1)\n",
      "Collecting threadpoolctl>=2.0.0\n",
      "  Downloading threadpoolctl-3.0.0-py3-none-any.whl (14 kB)\n",
      "Requirement already satisfied: joblib>=0.11 in /usr/local/lib/python3.7/dist-packages (from scikit-learn>=0.24->-r requirements.txt (line 6)) (1.0.1)\n",
      "Requirement already satisfied: pillow>=6.2.0 in /usr/local/lib/python3.7/dist-packages (from matplotlib>=3.3.0->-r requirements.txt (line 7)) (7.1.2)\n",
      "Requirement already satisfied: pyparsing>=2.2.1 in /usr/local/lib/python3.7/dist-packages (from matplotlib>=3.3.0->-r requirements.txt (line 7)) (2.4.7)\n",
      "Requirement already satisfied: cycler>=0.10 in /usr/local/lib/python3.7/dist-packages (from matplotlib>=3.3.0->-r requirements.txt (line 7)) (0.10.0)\n",
      "Requirement already satisfied: kiwisolver>=1.0.1 in /usr/local/lib/python3.7/dist-packages (from matplotlib>=3.3.0->-r requirements.txt (line 7)) (1.3.2)\n",
      "Requirement already satisfied: six in /usr/local/lib/python3.7/dist-packages (from cycler>=0.10->matplotlib>=3.3.0->-r requirements.txt (line 7)) (1.15.0)\n",
      "Collecting cligj>=0.5\n",
      "  Downloading cligj-0.7.2-py3-none-any.whl (7.1 kB)\n",
      "Collecting click-plugins>=1.0\n",
      "  Downloading click_plugins-1.1.1-py2.py3-none-any.whl (7.5 kB)\n",
      "Requirement already satisfied: click>=4.0 in /usr/local/lib/python3.7/dist-packages (from fiona>=1.8->geopandas>=0.9.0->-r requirements.txt (line 4)) (7.1.2)\n",
      "Requirement already satisfied: certifi in /usr/local/lib/python3.7/dist-packages (from fiona>=1.8->geopandas>=0.9.0->-r requirements.txt (line 4)) (2021.5.30)\n",
      "Collecting munch\n",
      "  Downloading munch-2.5.0-py2.py3-none-any.whl (10 kB)\n",
      "Requirement already satisfied: attrs>=17 in /usr/local/lib/python3.7/dist-packages (from fiona>=1.8->geopandas>=0.9.0->-r requirements.txt (line 4)) (21.2.0)\n",
      "Installing collected packages: munch, cligj, click-plugins, threadpoolctl, pyproj, pandas, fiona, xgboost, scikit-learn, matplotlib, geopandas\n",
      "  Attempting uninstall: pandas\n",
      "    Found existing installation: pandas 1.1.5\n",
      "    Uninstalling pandas-1.1.5:\n",
      "      Successfully uninstalled pandas-1.1.5\n",
      "  Attempting uninstall: xgboost\n",
      "    Found existing installation: xgboost 0.90\n",
      "    Uninstalling xgboost-0.90:\n",
      "      Successfully uninstalled xgboost-0.90\n",
      "  Attempting uninstall: scikit-learn\n",
      "    Found existing installation: scikit-learn 0.22.2.post1\n",
      "    Uninstalling scikit-learn-0.22.2.post1:\n",
      "      Successfully uninstalled scikit-learn-0.22.2.post1\n",
      "  Attempting uninstall: matplotlib\n",
      "    Found existing installation: matplotlib 3.2.2\n",
      "    Uninstalling matplotlib-3.2.2:\n",
      "      Successfully uninstalled matplotlib-3.2.2\n",
      "\u001b[31mERROR: pip's dependency resolver does not currently take into account all the packages that are installed. This behaviour is the source of the following dependency conflicts.\n",
      "google-colab 1.0.0 requires pandas~=1.1.0; python_version >= \"3.0\", but you have pandas 1.3.3 which is incompatible.\n",
      "albumentations 0.1.12 requires imgaug<0.2.7,>=0.2.5, but you have imgaug 0.2.9 which is incompatible.\u001b[0m\n",
      "Successfully installed click-plugins-1.1.1 cligj-0.7.2 fiona-1.8.20 geopandas-0.10.1 matplotlib-3.4.3 munch-2.5.0 pandas-1.3.3 pyproj-3.2.1 scikit-learn-1.0 threadpoolctl-3.0.0 xgboost-1.4.2\n"
     ]
    },
    {
     "data": {
      "application/vnd.colab-display-data+json": {
       "pip_warning": {
        "packages": [
         "matplotlib",
         "mpl_toolkits",
         "pandas"
        ]
       }
      }
     },
     "metadata": {},
     "output_type": "display_data"
    },
    {
     "name": "stdout",
     "output_type": "stream",
     "text": [
      "Collecting pandas==1.2.3\n",
      "  Downloading pandas-1.2.3-cp37-cp37m-manylinux1_x86_64.whl (9.9 MB)\n",
      "\u001b[K     |████████████████████████████████| 9.9 MB 5.4 MB/s \n",
      "\u001b[?25hRequirement already satisfied: numpy>=1.16.5 in /usr/local/lib/python3.7/dist-packages (from pandas==1.2.3) (1.19.5)\n",
      "Requirement already satisfied: pytz>=2017.3 in /usr/local/lib/python3.7/dist-packages (from pandas==1.2.3) (2018.9)\n",
      "Requirement already satisfied: python-dateutil>=2.7.3 in /usr/local/lib/python3.7/dist-packages (from pandas==1.2.3) (2.8.2)\n",
      "Requirement already satisfied: six>=1.5 in /usr/local/lib/python3.7/dist-packages (from python-dateutil>=2.7.3->pandas==1.2.3) (1.15.0)\n",
      "Installing collected packages: pandas\n",
      "  Attempting uninstall: pandas\n",
      "    Found existing installation: pandas 1.3.3\n",
      "    Uninstalling pandas-1.3.3:\n",
      "      Successfully uninstalled pandas-1.3.3\n",
      "\u001b[31mERROR: pip's dependency resolver does not currently take into account all the packages that are installed. This behaviour is the source of the following dependency conflicts.\n",
      "google-colab 1.0.0 requires pandas~=1.1.0; python_version >= \"3.0\", but you have pandas 1.2.3 which is incompatible.\u001b[0m\n",
      "Successfully installed pandas-1.2.3\n"
     ]
    },
    {
     "data": {
      "application/vnd.colab-display-data+json": {
       "pip_warning": {
        "packages": [
         "pandas"
        ]
       }
      }
     },
     "metadata": {},
     "output_type": "display_data"
    }
   ],
   "source": [
    "## Copy gizmo package file from Google Drive to Colab Instance\n",
    "!cp -r /content/drive/MyDrive/AC297r/gizmo/ ./gizmo\n",
    "\n",
    "## Locally install `gizmo`\n",
    "%cd gizmo\n",
    "!pip install -e .\n",
    "\n",
    "# Clone teamBlueConduit and install necessary packages and \n",
    "!git clone https://github.com/mcembalest/teamBlueConduit.git\n",
    "%cd teamBlueConduit\n",
    "!pip install .\n",
    "!pip install -r requirements.txt > /dev/null"
   ]
  },
  {
   "cell_type": "code",
   "execution_count": null,
   "metadata": {
    "colab": {
     "base_uri": "https://localhost:8080/"
    },
    "id": "2x0QZajFIvXz",
    "outputId": "e986db1e-e762-4025-ffe7-c7b2a662f295"
   },
   "outputs": [
    {
     "name": "stdout",
     "output_type": "stream",
     "text": [
      "Filesystem      Size  Used Avail Use% Mounted on\n",
      "overlay         226G   48G  178G  22% /\n",
      "tmpfs            64M     0   64M   0% /dev\n",
      "tmpfs           6.4G     0  6.4G   0% /sys/fs/cgroup\n",
      "shm             5.9G     0  5.9G   0% /dev/shm\n",
      "/dev/root       2.0G  1.2G  821M  59% /sbin/docker-init\n",
      "tmpfs           6.4G   40K  6.4G   1% /var/colab\n",
      "/dev/sda1       233G   50G  183G  22% /etc/hosts\n",
      "tmpfs           6.4G     0  6.4G   0% /proc/acpi\n",
      "tmpfs           6.4G     0  6.4G   0% /proc/scsi\n",
      "tmpfs           6.4G     0  6.4G   0% /sys/firmware\n"
     ]
    }
   ],
   "source": [
    "!df -h"
   ]
  },
  {
   "cell_type": "code",
   "execution_count": null,
   "metadata": {
    "colab": {
     "base_uri": "https://localhost:8080/"
    },
    "id": "Xv2VPg8IRec6",
    "outputId": "7b67e66b-2012-44e9-e641-3ab56f546833"
   },
   "outputs": [
    {
     "name": "stdout",
     "output_type": "stream",
     "text": [
      "Architecture:        x86_64\n",
      "CPU op-mode(s):      32-bit, 64-bit\n",
      "Byte Order:          Little Endian\n",
      "CPU(s):              4\n",
      "On-line CPU(s) list: 0-3\n",
      "Thread(s) per core:  2\n",
      "Core(s) per socket:  2\n",
      "Socket(s):           1\n",
      "NUMA node(s):        1\n",
      "Vendor ID:           AuthenticAMD\n",
      "CPU family:          23\n",
      "Model:               49\n",
      "Model name:          AMD EPYC 7B12\n",
      "Stepping:            0\n",
      "CPU MHz:             2250.000\n",
      "BogoMIPS:            4500.00\n",
      "Hypervisor vendor:   KVM\n",
      "Virtualization type: full\n",
      "L1d cache:           32K\n",
      "L1i cache:           32K\n",
      "L2 cache:            512K\n",
      "L3 cache:            16384K\n",
      "NUMA node0 CPU(s):   0-3\n",
      "Flags:               fpu vme de pse tsc msr pae mce cx8 apic sep mtrr pge mca cmov pat pse36 clflush mmx fxsr sse sse2 ht syscall nx mmxext fxsr_opt pdpe1gb rdtscp lm constant_tsc rep_good nopl nonstop_tsc cpuid extd_apicid tsc_known_freq pni pclmulqdq ssse3 fma cx16 sse4_1 sse4_2 movbe popcnt aes xsave avx f16c rdrand hypervisor lahf_lm cmp_legacy cr8_legacy abm sse4a misalignsse 3dnowprefetch osvw topoext ssbd ibrs ibpb stibp vmmcall fsgsbase tsc_adjust bmi1 avx2 smep bmi2 rdseed adx smap clflushopt clwb sha_ni xsaveopt xsavec xgetbv1 clzero xsaveerptr arat npt nrip_save umip rdpid\n"
     ]
    }
   ],
   "source": [
    "!lscpu"
   ]
  },
  {
   "cell_type": "code",
   "execution_count": null,
   "metadata": {
    "id": "jsQVP1BvC8uk"
   },
   "outputs": [],
   "source": [
    "import requests\n",
    "#from blue_conduit_spatial.utilities import *\n",
    "import geopandas as gpd\n",
    "from blue_conduit_spatial.distance_matrix import *\n",
    "import pandas as pd\n",
    "import numpy as np"
   ]
  },
  {
   "cell_type": "code",
   "execution_count": null,
   "metadata": {
    "colab": {
     "base_uri": "https://localhost:8080/"
    },
    "id": "BSlN_CGTDIBn",
    "outputId": "cf2be2c4-3110-472e-b318-efd54ef86719"
   },
   "outputs": [
    {
     "name": "stdout",
     "output_type": "stream",
     "text": [
      "Mounted at /content/drive\n"
     ]
    }
   ],
   "source": [
    "from google.colab import drive\n",
    "drive.mount('/content/drive')"
   ]
  },
  {
   "cell_type": "code",
   "execution_count": null,
   "metadata": {
    "colab": {
     "base_uri": "https://localhost:8080/"
    },
    "id": "0i3gVxdQDJp6",
    "outputId": "236e4a1d-377f-4c1a-9879-544a26c56fd0"
   },
   "outputs": [
    {
     "name": "stdout",
     "output_type": "stream",
     "text": [
      "Processed  Raw\n"
     ]
    }
   ],
   "source": [
    "!ls # FILE PATH TO LOAD"
   ]
  },
  {
   "cell_type": "code",
   "execution_count": null,
   "metadata": {
    "id": "cZbFvbWhFBV9"
   },
   "outputs": [],
   "source": [
    "col_name_dictionary = {'pid': 'pid', 'Property Z': 'Property Zip Code', 'Owner Type': 'Owner Type',\n",
    "                       'Owner Stat': 'Owner State', 'Homestead': 'Homestead', 'Homestea_1': 'Homestead Percent',\n",
    "                       'HomeSEV': 'HomeSEV', 'Land Value': 'Land Value', 'Land Impro': 'Land Improvements Value',\n",
    "                       'Residentia': 'Residential Building Value', 'Resident_1': 'Residential Building Style',\n",
    "                       'Commercial': 'Commercial Building Value', 'Building S': 'Building Storeys',\n",
    "                       'Parcel Acr': 'Parcel Acres', 'Rental': 'Rental', 'Use Type': 'Use Type',\n",
    "                       'Prop Class': 'Prop Class', 'Old Prop c': 'Old Prop class', 'Year Built': 'Year Built',\n",
    "                       'USPS Vacan': 'USPS Vacancy', 'Zoning': 'Zoning', 'Future Lan': 'Future Landuse',\n",
    "                       'DRAFT Zone': 'DRAFT Zone', 'Housing Co': 'Housing Condition 2012',\n",
    "                       'Housing _1': 'Housing Condition 2014', 'Commerci_1': 'Commercial Condition 2013',\n",
    "                       'Latitude': 'Latitude', 'Longitude': 'Longitude', 'Hydrant Ty': 'Hydrant Type',\n",
    "                       'Ward': 'Ward', 'PRECINCT': 'PRECINCT', 'CENTRACT': 'CENTRACT', 'CENBLOCK': 'CENBLOCK',\n",
    "                       'SL_Type': 'SL_Type', 'SL_Type2': 'SL_Type2', 'SL_Lead': 'SL_Lead', 'Ed_July': 'Ed_July',\n",
    "                       'Ed_March': 'Ed_March', 'Last_Test': 'Last_Test', 'Max_Lead': 'Max_Lead',\n",
    "                       'Med_Lead': 'Med_Lead', 'Num_Tests': 'Num_Tests', 'Res_Test': 'Res_Test',\n",
    "                       'Sen_Test': 'Sen_Test', 'SL_private': 'SL_private_inspection',\n",
    "                       'B_median_a': 'B_median_age_all_women', 'B_median_1': 'B_median_age_all_men', \n",
    "                       'B_median_2': 'B_median_age_all', 'B_median_3': 'B_median_age_all_women_white',\n",
    "                       'B_median_4': 'B_median_age_all_men_white', 'B_median_5': 'B_median_age_all_white',\n",
    "                       'B_median_6': 'B_median_age_all_women_black', 'B_median_7': 'B_median_age_all_men_black',\n",
    "                       'B_median_8': 'B_median_age_all_black', 'B_total_bl': 'B_total_black_pop',\n",
    "                       'B_total_wh': 'B_total_white_pop', 'B_married_': 'B_married_couples',\n",
    "                       'B_single_w': 'B_single_women', 'B_marrie_1': 'B_married_couples_white',\n",
    "                       'B_single_1': 'B_single_women_white', 'B_marrie_2': 'B_married_couples_black',\n",
    "                       'B_single_2': 'B_single_women_black', 'B_marrie_3': 'B_married_couples_w_children',\n",
    "                       'B_single_m': 'B_single_mothers_w_children', 'B_househol': 'B_households_w_elderly',\n",
    "                       'B_househod': 'B_househod_no_elderly', 'B_aggregat': 'B_aggregate_income',\n",
    "                       'B_speak_sp': 'B_speak_spanish', 'B_speak_on': 'B_speak_only_english',\n",
    "                       'B_no_engli': 'B_no_english', 'B_hispanic': 'B_hispanic_household',\n",
    "                       'B_imputed_': 'B_imputed_rent', 'B_impute_1': 'B_imputed_value',\n",
    "                       'known_priv': 'known_private_sl', 'known_publ': 'known_public_sl', 'hydrovac': 'hydrovac',\n",
    "                       'sl_priva_1': 'sl_private_type', 'sl_public_': 'sl_public_type', 'created_at': 'created_at',\n",
    "                       'source': 'source', 'hv_visit': 'hv_visit', 'sl_visit': 'sl_visit', 'replaced': 'replaced',\n",
    "                       'dangerous': 'dangerous', 'geometry': 'geometry'}"
   ]
  },
  {
   "cell_type": "code",
   "execution_count": null,
   "metadata": {
    "id": "J7ZH5dsiD3T7"
   },
   "outputs": [],
   "source": [
    "### NOTE: DIFFERENCE IN FILE PATH TO REFLECT DIFFERING DATA STRUCTURE ON COLAB\n",
    "sl_df = gpd.read_file('# FILE PATH TO LOAD')\n",
    "sl_df = sl_df.rename(col_name_dictionary, axis=1)"
   ]
  },
  {
   "cell_type": "code",
   "execution_count": null,
   "metadata": {
    "id": "YEhs9NWzFAfW"
   },
   "outputs": [],
   "source": [
    "sl_df = sl_df[~pd.isnull(sl_df['Longitude'])]\n",
    "#sl_df['longlatstr'] = sl_df['Longitude'].round(6).astype(str) + ',' + sl_df['Latitude'].round(6).astype(str)\n",
    "sl_df = sl_df[~pd.isnull(sl_df.dangerous)].reset_index()"
   ]
  },
  {
   "cell_type": "code",
   "execution_count": null,
   "metadata": {
    "colab": {
     "base_uri": "https://localhost:8080/"
    },
    "id": "G61emEJ9FmFS",
    "outputId": "79002d2a-21ce-478a-baa1-f7eb1a563512"
   },
   "outputs": [
    {
     "name": "stdout",
     "output_type": "stream",
     "text": [
      "Filesystem      Size  Used Avail Use% Mounted on\n",
      "overlay         108G   47G   62G  43% /\n",
      "tmpfs            64M     0   64M   0% /dev\n",
      "tmpfs            13G     0   13G   0% /sys/fs/cgroup\n",
      "shm              13G     0   13G   0% /dev/shm\n",
      "/dev/root       2.0G  1.2G  821M  59% /sbin/docker-init\n",
      "tmpfs            13G   28K   13G   1% /var/colab\n",
      "/dev/sda1        81G   51G   31G  63% /etc/hosts\n",
      "tmpfs            13G     0   13G   0% /proc/acpi\n",
      "tmpfs            13G     0   13G   0% /proc/scsi\n",
      "tmpfs            13G     0   13G   0% /sys/firmware\n"
     ]
    }
   ],
   "source": [
    "!df -h"
   ]
  },
  {
   "cell_type": "code",
   "execution_count": null,
   "metadata": {
    "colab": {
     "base_uri": "https://localhost:8080/"
    },
    "id": "rL3K7Re4EZUv",
    "outputId": "69eadf2b-8f76-4fc5-de9a-916d40b562db"
   },
   "outputs": [
    {
     "name": "stdout",
     "output_type": "stream",
     "text": [
      "Haversine Max: 19.0465 km; Min: 0.0000\n",
      "Haversine: Mean=4.8446 km; SD=2.3646 km\n",
      "Size: 5.77 GB\n",
      "CPU times: user 51.8 s, sys: 9.58 s, total: 1min 1s\n",
      "Wall time: 1min\n"
     ]
    }
   ],
   "source": [
    "%%time\n",
    "from sklearn.metrics.pairwise import euclidean_distances, haversine_distances\n",
    "#N_have = 1000\n",
    "sl_df_coord = sl_df[['Latitude', 'Longitude']].apply(np.radians)\n",
    "\n",
    "try:\n",
    "    del have_dists\n",
    "except:\n",
    "    pass\n",
    "\n",
    "have_dists = haversine_distances(sl_df_coord)#[:N_have])\n",
    "\n",
    "print(f\"Haversine Max: {(have_dists*6371).max():0.4f} km; Min: {(have_dists*6371).min():0.4f}\")\n",
    "print(f\"Haversine: Mean={(have_dists*6371).mean():0.4f} km; SD={(have_dists*6371).std():0.4f} km\")\n",
    "\n",
    "print(f\"Size: {have_dists.nbytes*1e-9:0.2f} GB\")"
   ]
  },
  {
   "cell_type": "code",
   "execution_count": null,
   "metadata": {
    "colab": {
     "base_uri": "https://localhost:8080/"
    },
    "id": "PMmfLZchUTTq",
    "outputId": "ae27687c-eb21-43e5-d6d2-17b11c40f069"
   },
   "outputs": [
    {
     "data": {
      "text/plain": [
       "(26857, 26857)"
      ]
     },
     "execution_count": 26,
     "metadata": {},
     "output_type": "execute_result"
    }
   ],
   "source": [
    "have_dists.shape"
   ]
  },
  {
   "cell_type": "markdown",
   "metadata": {
    "id": "SJQKV6fcFyjb"
   },
   "source": [
    "# Find Road Distances by querying OSRM Machine\n",
    "\n",
    "Note that the IP Address below is an AWS instance where the OSRM has been built; further details can be found in the documentation for creation of the road distances."
   ]
  },
  {
   "cell_type": "code",
   "execution_count": null,
   "metadata": {
    "colab": {
     "base_uri": "https://localhost:8080/"
    },
    "id": "N5hCuiLDHgyi",
    "outputId": "64b91fe8-69a2-4020-fe3b-97f1d7eb5a39"
   },
   "outputs": [
    {
     "name": "stdout",
     "output_type": "stream",
     "text": [
      "Finished Row 0\n",
      "Finished Row 100\n",
      "Finished Row 200\n",
      "Finished Row 300\n",
      "Finished Row 400\n",
      "Finished Row 500\n",
      "Finished Row 600\n",
      "Finished Row 700\n",
      "Finished Row 800\n",
      "Finished Row 900\n",
      "Finished Row 1000\n",
      "Finished Row 1100\n",
      "Finished Row 1200\n",
      "Finished Row 1300\n",
      "Finished Row 1400\n",
      "Finished Row 1500\n",
      "Finished Row 1600\n",
      "Finished Row 1700\n",
      "Finished Row 1800\n",
      "Finished Row 1900\n",
      "Finished Row 2000\n",
      "Finished Row 2100\n",
      "Finished Row 2200\n",
      "Finished Row 2300\n",
      "Finished Row 2400\n",
      "Finished Row 2500\n",
      "Finished Row 2600\n",
      "Finished Row 2700\n",
      "Finished Row 2800\n",
      "Finished Row 2900\n",
      "Finished Row 3000\n",
      "Finished Row 3100\n",
      "Finished Row 3200\n",
      "Finished Row 3300\n",
      "Finished Row 3400\n",
      "Finished Row 3500\n",
      "Finished Row 3600\n",
      "Finished Row 3700\n",
      "Finished Row 3800\n",
      "Finished Row 3900\n",
      "Finished Row 4000\n",
      "Finished Row 4100\n",
      "Finished Row 4200\n",
      "Finished Row 4300\n",
      "Finished Row 4400\n",
      "Finished Row 4500\n",
      "Finished Row 4600\n",
      "Finished Row 4700\n",
      "Finished Row 4800\n",
      "Finished Row 4900\n",
      "Finished Row 5000\n",
      "Finished Row 5100\n",
      "Finished Row 5200\n",
      "Finished Row 5300\n",
      "Finished Row 5400\n",
      "Finished Row 5500\n",
      "Finished Row 5600\n",
      "Finished Row 5700\n",
      "Finished Row 5800\n",
      "Finished Row 5900\n",
      "Finished Row 6000\n",
      "Finished Row 6100\n",
      "Finished Row 6200\n",
      "Finished Row 6300\n",
      "Finished Row 6400\n",
      "Finished Row 6500\n",
      "Finished Row 6600\n",
      "Finished Row 6700\n",
      "Finished Row 6800\n",
      "Finished Row 6900\n",
      "Finished Row 7000\n",
      "Finished Row 7100\n",
      "Finished Row 7200\n",
      "Finished Row 7300\n",
      "Finished Row 7400\n",
      "Finished Row 7500\n",
      "Finished Row 7600\n",
      "Finished Row 7700\n",
      "Finished Row 7800\n",
      "Finished Row 7900\n",
      "Finished Row 8000\n",
      "Finished Row 8100\n",
      "Finished Row 8200\n",
      "Finished Row 8300\n",
      "Finished Row 8400\n",
      "Finished Row 8500\n",
      "Finished Row 8600\n",
      "Finished Row 8700\n",
      "Finished Row 8800\n",
      "Finished Row 8900\n",
      "Finished Row 9000\n",
      "Finished Row 9100\n",
      "Finished Row 9200\n",
      "Finished Row 9300\n",
      "Finished Row 9400\n",
      "Finished Row 9500\n",
      "Finished Row 9600\n",
      "Finished Row 9700\n",
      "Finished Row 9800\n",
      "Finished Row 9900\n",
      "Finished Row 10000\n",
      "Finished Row 10100\n",
      "Finished Row 10200\n",
      "Finished Row 10300\n",
      "Finished Row 10400\n",
      "Finished Row 10500\n",
      "Finished Row 10600\n",
      "Finished Row 10700\n",
      "Finished Row 10800\n",
      "Finished Row 10900\n",
      "Finished Row 11000\n",
      "Finished Row 11100\n",
      "Finished Row 11200\n",
      "Finished Row 11300\n",
      "Finished Row 11400\n",
      "Finished Row 11500\n",
      "Finished Row 11600\n",
      "Finished Row 11700\n",
      "Finished Row 11800\n",
      "Finished Row 11900\n",
      "Finished Row 12000\n",
      "Finished Row 12100\n",
      "Finished Row 12200\n",
      "Finished Row 12300\n",
      "Finished Row 12400\n",
      "Finished Row 12500\n",
      "Finished Row 12600\n",
      "Finished Row 12700\n",
      "Finished Row 12800\n",
      "Finished Row 12900\n",
      "Finished Row 13000\n",
      "Finished Row 13100\n",
      "Finished Row 13200\n",
      "Finished Row 13300\n",
      "Finished Row 13400\n",
      "Finished Row 13500\n",
      "Finished Row 13600\n",
      "Finished Row 13700\n",
      "Finished Row 13800\n",
      "Finished Row 13900\n",
      "Finished Row 14000\n",
      "Finished Row 14100\n",
      "Finished Row 14200\n",
      "Finished Row 14300\n",
      "Finished Row 14400\n",
      "Finished Row 14500\n",
      "Finished Row 14600\n",
      "Finished Row 14700\n",
      "Finished Row 14800\n",
      "Finished Row 14900\n",
      "Finished Row 15000\n",
      "Finished Row 15100\n",
      "Finished Row 15200\n",
      "Finished Row 15300\n",
      "Finished Row 15400\n",
      "Finished Row 15500\n",
      "Finished Row 15600\n",
      "Finished Row 15700\n",
      "Finished Row 15800\n",
      "Finished Row 15900\n",
      "Finished Row 16000\n",
      "Finished Row 16100\n",
      "Finished Row 16200\n",
      "Finished Row 16300\n",
      "Finished Row 16400\n",
      "Finished Row 16500\n",
      "Finished Row 16600\n",
      "Finished Row 16700\n",
      "Finished Row 16800\n",
      "Finished Row 16900\n",
      "Finished Row 17000\n",
      "Finished Row 17100\n",
      "Finished Row 17200\n",
      "Finished Row 17300\n",
      "Finished Row 17400\n",
      "Finished Row 17500\n",
      "Finished Row 17600\n",
      "Finished Row 17700\n",
      "Finished Row 17800\n",
      "Finished Row 17900\n",
      "Finished Row 18000\n",
      "Finished Row 18100\n",
      "Finished Row 18200\n",
      "Finished Row 18300\n",
      "Finished Row 18400\n",
      "Finished Row 18500\n",
      "Finished Row 18600\n",
      "Finished Row 18700\n",
      "Finished Row 18800\n",
      "Finished Row 18900\n",
      "Finished Row 19000\n",
      "Finished Row 19100\n",
      "Finished Row 19200\n",
      "Finished Row 19300\n",
      "Finished Row 19400\n",
      "Finished Row 19500\n",
      "Finished Row 19600\n",
      "Finished Row 19700\n",
      "Finished Row 19800\n",
      "Finished Row 19900\n",
      "Finished Row 20000\n",
      "Finished Row 20100\n",
      "Finished Row 20200\n",
      "Finished Row 20300\n",
      "Finished Row 20400\n",
      "Finished Row 20500\n",
      "Finished Row 20600\n",
      "Finished Row 20700\n",
      "Finished Row 20800\n",
      "Finished Row 20900\n",
      "Finished Row 21000\n",
      "Finished Row 21100\n",
      "Finished Row 21200\n",
      "Finished Row 21300\n",
      "Finished Row 21400\n",
      "Finished Row 21500\n",
      "Finished Row 21600\n",
      "Finished Row 21700\n",
      "Finished Row 21800\n",
      "Finished Row 21900\n",
      "Finished Row 22000\n",
      "Finished Row 22100\n",
      "Finished Row 22200\n",
      "Finished Row 22300\n",
      "Finished Row 22400\n",
      "Finished Row 22500\n",
      "Finished Row 22600\n",
      "Finished Row 22700\n",
      "Finished Row 22800\n",
      "Finished Row 22900\n",
      "Finished Row 23000\n",
      "Finished Row 23100\n",
      "Finished Row 23200\n",
      "Finished Row 23300\n",
      "Finished Row 23400\n",
      "Finished Row 23500\n",
      "Finished Row 23600\n",
      "Finished Row 23700\n",
      "Finished Row 23800\n",
      "Finished Row 23900\n",
      "Finished Row 24000\n",
      "Finished Row 24100\n",
      "Finished Row 24200\n",
      "Finished Row 24300\n",
      "Finished Row 24400\n",
      "Finished Row 24500\n",
      "Finished Row 24600\n",
      "Finished Row 24700\n",
      "Finished Row 24800\n",
      "Finished Row 24900\n",
      "Finished Row 25000\n",
      "Finished Row 25100\n",
      "Finished Row 25200\n",
      "Finished Row 25300\n",
      "Finished Row 25400\n",
      "Finished Row 25500\n",
      "Finished Row 25600\n",
      "Finished Row 25700\n",
      "Finished Row 25800\n",
      "Finished Row 25900\n",
      "Finished Row 26000\n",
      "Finished Row 26100\n",
      "Finished Row 26200\n",
      "Finished Row 26300\n",
      "Finished Row 26400\n",
      "Finished Row 26500\n",
      "Finished Row 26600\n",
      "Finished Row 26700\n",
      "Finished Row 26800\n",
      "CPU times: user 37min 20s, sys: 17.3 s, total: 37min 37s\n",
      "Wall time: 1h 31min\n"
     ]
    }
   ],
   "source": [
    "%%time\n",
    "import numpy as np\n",
    "ip = \"54.144.55.140\"\n",
    "rdmat = RoadDistanceMatrix(N=26857, df=sl_df)\n",
    "rdmat.fit(have_dists, ip=ip, limit=0.5)"
   ]
  },
  {
   "cell_type": "code",
   "execution_count": null,
   "metadata": {
    "id": "gF9TeW_eV1jG"
   },
   "outputs": [],
   "source": [
    "rdmat.save(\"# FILE PATH TO SAVE\")"
   ]
  },
  {
   "cell_type": "code",
   "execution_count": null,
   "metadata": {
    "colab": {
     "base_uri": "https://localhost:8080/"
    },
    "id": "V_pIjQOMIBrp",
    "outputId": "844c6279-6a19-49bf-c67e-9953c0a920d8"
   },
   "outputs": [
    {
     "name": "stdout",
     "output_type": "stream",
     "text": [
      "% of matrix filled: 1.54%\n"
     ]
    }
   ],
   "source": [
    "total_distances_stored = (rdmat.road_dist_arr < 1e5).sum()\n",
    "total_size = rdmat.road_dist_arr.size\n",
    "print(f\"% of matrix filled: {total_distances_stored/total_size*100:0.2f}%\")"
   ]
  },
  {
   "cell_type": "code",
   "execution_count": null,
   "metadata": {
    "colab": {
     "base_uri": "https://localhost:8080/"
    },
    "id": "lT1fLZVyqHlZ",
    "outputId": "156e984e-503c-4727-cf65-e2664dd30d3e"
   },
   "outputs": [
    {
     "data": {
      "text/plain": [
       "[1, 1, 2, 2, 2, 2, 2, 2, 3, 4]"
      ]
     },
     "execution_count": 39,
     "metadata": {},
     "output_type": "execute_result"
    }
   ],
   "source": [
    "sorted((rdmat.road_dist_arr < 1e5).sum(axis=1))[:10]"
   ]
  },
  {
   "cell_type": "code",
   "execution_count": null,
   "metadata": {
    "colab": {
     "base_uri": "https://localhost:8080/"
    },
    "id": "4JxzVRMCMKbE",
    "outputId": "d2868013-389e-41a5-c907-a08849d01869"
   },
   "outputs": [
    {
     "name": "stdout",
     "output_type": "stream",
     "text": [
      "Finished Row 0\n",
      "Finished Row 100\n",
      "Finished Row 200\n",
      "Finished Row 300\n",
      "Finished Row 400\n",
      "Finished Row 500\n",
      "Finished Row 600\n",
      "Finished Row 700\n",
      "Finished Row 800\n",
      "Finished Row 900\n",
      "CPU times: user 46.2 s, sys: 374 ms, total: 46.6 s\n",
      "Wall time: 2min 8s\n"
     ]
    }
   ],
   "source": [
    "%%time\n",
    "ip_add2 = \"\"\n",
    "rdmat2 = RoadDistanceMatrix(N=1000, df=sl_df)\n",
    "rdmat2.fit(have_dists, ip=ip_add2, limit=0.5)"
   ]
  },
  {
   "cell_type": "code",
   "execution_count": null,
   "metadata": {
    "colab": {
     "base_uri": "https://localhost:8080/"
    },
    "id": "YOj37ji4SOed",
    "outputId": "d98ee5f9-cf54-47bc-f175-7724f21075d2"
   },
   "outputs": [
    {
     "data": {
      "text/plain": [
       "397"
      ]
     },
     "execution_count": 25,
     "metadata": {},
     "output_type": "execute_result"
    }
   ],
   "source": [
    "rdmat2.max_query"
   ]
  },
  {
   "cell_type": "code",
   "execution_count": null,
   "metadata": {
    "id": "FhdmUbDqTpLV"
   },
   "outputs": [],
   "source": []
  }
 ],
 "metadata": {
  "colab": {
   "collapsed_sections": [],
   "machine_shape": "hm",
   "name": "DistanceMatrices.ipynb",
   "provenance": []
  },
  "kernelspec": {
   "display_name": "Python 3",
   "language": "python",
   "name": "python3"
  },
  "language_info": {
   "codemirror_mode": {
    "name": "ipython",
    "version": 3
   },
   "file_extension": ".py",
   "mimetype": "text/x-python",
   "name": "python",
   "nbconvert_exporter": "python",
   "pygments_lexer": "ipython3",
   "version": "3.8.5"
  }
 },
 "nbformat": 4,
 "nbformat_minor": 1
}
