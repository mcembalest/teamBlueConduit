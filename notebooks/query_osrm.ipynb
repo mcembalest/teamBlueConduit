{
 "cells": [
  {
   "cell_type": "code",
   "execution_count": 1,
   "id": "desperate-animation",
   "metadata": {},
   "outputs": [],
   "source": [
    "import requests"
   ]
  },
  {
   "cell_type": "code",
   "execution_count": 62,
   "id": "agreed-favorite",
   "metadata": {},
   "outputs": [
    {
     "name": "stdout",
     "output_type": "stream",
     "text": [
      "http://52.90.54.161:5000/table/v1/driving/-83.703084,43.018999;-83.738798,43.018999\n",
      "CPU times: user 3.87 ms, sys: 6.48 ms, total: 10.4 ms\n",
      "Wall time: 311 ms\n"
     ]
    },
    {
     "data": {
      "text/plain": [
       "[[0, 520.9], [534.3, 0]]"
      ]
     },
     "execution_count": 62,
     "metadata": {},
     "output_type": "execute_result"
    }
   ],
   "source": [
    "%%time\n",
    "#Latitude,Longitude\n",
    "latlonglist = [\"-83.738798,43.018999\"] \n",
    "\n",
    "longstr = ''\n",
    "for i, c in enumerate(latlonglist):\n",
    "    if i == 0:\n",
    "        longstr = c\n",
    "    else:\n",
    "        longstr += ';' + c\n",
    "\n",
    "ip_add = \"52.90.54.161\"\n",
    "init_lat_long = \"-83.703084,43.018999\"\n",
    "how = \"driving\" #\"walking\" or \"driving\"\n",
    "url = f\"http://{ip_add}:5000/table/v1/{how}/{init_lat_long};{longstr}\"\n",
    "print(url)\n",
    "r = requests.get(url)\n",
    "output = r.json()\n",
    "#output['durations'] # output is in seconds\n",
    "output['durations']"
   ]
  },
  {
   "cell_type": "code",
   "execution_count": null,
   "id": "sixth-alarm",
   "metadata": {},
   "outputs": [],
   "source": []
  },
  {
   "cell_type": "code",
   "execution_count": null,
   "id": "elder-wagon",
   "metadata": {},
   "outputs": [],
   "source": []
  }
 ],
 "metadata": {
  "kernelspec": {
   "display_name": "Python 3",
   "language": "python",
   "name": "python3"
  },
  "language_info": {
   "codemirror_mode": {
    "name": "ipython",
    "version": 3
   },
   "file_extension": ".py",
   "mimetype": "text/x-python",
   "name": "python",
   "nbconvert_exporter": "python",
   "pygments_lexer": "ipython3",
   "version": "3.8.5"
  }
 },
 "nbformat": 4,
 "nbformat_minor": 5
}
