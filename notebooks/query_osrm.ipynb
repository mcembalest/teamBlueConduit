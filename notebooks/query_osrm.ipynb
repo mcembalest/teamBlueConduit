{
 "cells": [
  {
   "cell_type": "code",
   "execution_count": 1,
   "id": "supreme-transcript",
   "metadata": {},
   "outputs": [],
   "source": [
    "import requests"
   ]
  },
  {
   "cell_type": "code",
   "execution_count": 44,
   "id": "prospective-person",
   "metadata": {},
   "outputs": [
    {
     "name": "stdout",
     "output_type": "stream",
     "text": [
      "http://52.90.54.161:5000/table/v1/driving/43.026332,-83.703084;43.031609,-83.714277\n",
      "CPU times: user 0 ns, sys: 16.1 ms, total: 16.1 ms\n",
      "Wall time: 73.2 ms\n"
     ]
    },
    {
     "data": {
      "text/plain": [
       "{'code': 'Ok',\n",
       " 'durations': [[0, 0], [0, 0]],\n",
       " 'destinations': [{'hint': 'uY8GgAaQBoAkAAAAAAAAADcAAADgAAAA-kpzQQAAAAA_mrRB36y7QiQAAAAAAAAANwAAAOAAAACHAQCAf5EG-1PLfAKch5AC1MoC-wIAzw7LCvOy',\n",
       "   'distance': 19127183.162395,\n",
       "   'name': 'Zachrich Drive',\n",
       "   'location': [-83.455617, 41.732947]},\n",
       "  {'hint': 'uY8GgAaQBoAkAAAAAAAAADcAAADgAAAA-kpzQQAAAAA_mrRB36y7QiQAAAAAAAAANwAAAOAAAACHAQCAf5EG-1PLfAI5nJACG58C-wIAzw7LCvOy',\n",
       "   'distance': 19128460.222986,\n",
       "   'name': 'Zachrich Drive',\n",
       "   'location': [-83.455617, 41.732947]}],\n",
       " 'sources': [{'hint': 'uY8GgAaQBoAkAAAAAAAAADcAAADgAAAA-kpzQQAAAAA_mrRB36y7QiQAAAAAAAAANwAAAOAAAACHAQCAf5EG-1PLfAKch5AC1MoC-wIAzw7LCvOy',\n",
       "   'distance': 19127183.162395,\n",
       "   'name': 'Zachrich Drive',\n",
       "   'location': [-83.455617, 41.732947]},\n",
       "  {'hint': 'uY8GgAaQBoAkAAAAAAAAADcAAADgAAAA-kpzQQAAAAA_mrRB36y7QiQAAAAAAAAANwAAAOAAAACHAQCAf5EG-1PLfAI5nJACG58C-wIAzw7LCvOy',\n",
       "   'distance': 19128460.222986,\n",
       "   'name': 'Zachrich Drive',\n",
       "   'location': [-83.455617, 41.732947]}]}"
      ]
     },
     "execution_count": 44,
     "metadata": {},
     "output_type": "execute_result"
    }
   ],
   "source": [
    "%%time\n",
    "latlonglist = [\"43.026332,-83.703084\", \"43.026332,-75.703084\"] #, \"13.388860,52.517037\"]\n",
    "\n",
    "longstr = ''\n",
    "for i, c in enumerate(latlonglist):\n",
    "    if i == 0:\n",
    "        longstr = c\n",
    "    else:\n",
    "        longstr += ';' + c\n",
    "\n",
    "ip_add = \"52.90.54.161\"\n",
    "init_lat_long = \"13.388860,52.517037\"\n",
    "how = \"walking\" #\"walking\" or \"driving\"\n",
    "#url = f\"http://{ip_add}:5000/table/v1/{how}/{init_lat_long};{longstr}?sources=0\"\n",
    "url = f\"http://{ip_add}:5000/table/v1/driving/43.026332,-83.703084;43.031609,-83.714277\"\n",
    "print(url)\n",
    "r = requests.get(url)\n",
    "output = r.json()\n",
    "#output['durations'] # output is in seconds\n",
    "#output['durations']\n",
    "output"
   ]
  },
  {
   "cell_type": "code",
   "execution_count": null,
   "id": "massive-world",
   "metadata": {},
   "outputs": [],
   "source": []
  },
  {
   "cell_type": "code",
   "execution_count": null,
   "id": "presidential-optics",
   "metadata": {},
   "outputs": [],
   "source": []
  }
 ],
 "metadata": {
  "kernelspec": {
   "display_name": "Python 3",
   "language": "python",
   "name": "python3"
  },
  "language_info": {
   "codemirror_mode": {
    "name": "ipython",
    "version": 3
   },
   "file_extension": ".py",
   "mimetype": "text/x-python",
   "name": "python",
   "nbconvert_exporter": "python",
   "pygments_lexer": "ipython3",
   "version": "3.8.5"
  }
 },
 "nbformat": 4,
 "nbformat_minor": 5
}
