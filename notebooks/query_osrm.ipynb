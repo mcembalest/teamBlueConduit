{
 "cells": [
  {
   "cell_type": "code",
   "execution_count": 1,
   "id": "desperate-animation",
   "metadata": {},
   "outputs": [],
   "source": [
    "import requests\n",
    "from blue_conduit_spatial.utilities import *\n",
    "import geopandas as gpd"
   ]
  },
  {
   "cell_type": "code",
   "execution_count": 2,
   "id": "significant-worse",
   "metadata": {},
   "outputs": [],
   "source": [
    "col_name_dictionary = {'pid': 'pid', 'Property Z': 'Property Zip Code', 'Owner Type': 'Owner Type',\n",
    "                       'Owner Stat': 'Owner State', 'Homestead': 'Homestead', 'Homestea_1': 'Homestead Percent',\n",
    "                       'HomeSEV': 'HomeSEV', 'Land Value': 'Land Value', 'Land Impro': 'Land Improvements Value',\n",
    "                       'Residentia': 'Residential Building Value', 'Resident_1': 'Residential Building Style',\n",
    "                       'Commercial': 'Commercial Building Value', 'Building S': 'Building Storeys',\n",
    "                       'Parcel Acr': 'Parcel Acres', 'Rental': 'Rental', 'Use Type': 'Use Type',\n",
    "                       'Prop Class': 'Prop Class', 'Old Prop c': 'Old Prop class', 'Year Built': 'Year Built',\n",
    "                       'USPS Vacan': 'USPS Vacancy', 'Zoning': 'Zoning', 'Future Lan': 'Future Landuse',\n",
    "                       'DRAFT Zone': 'DRAFT Zone', 'Housing Co': 'Housing Condition 2012',\n",
    "                       'Housing _1': 'Housing Condition 2014', 'Commerci_1': 'Commercial Condition 2013',\n",
    "                       'Latitude': 'Latitude', 'Longitude': 'Longitude', 'Hydrant Ty': 'Hydrant Type',\n",
    "                       'Ward': 'Ward', 'PRECINCT': 'PRECINCT', 'CENTRACT': 'CENTRACT', 'CENBLOCK': 'CENBLOCK',\n",
    "                       'SL_Type': 'SL_Type', 'SL_Type2': 'SL_Type2', 'SL_Lead': 'SL_Lead', 'Ed_July': 'Ed_July',\n",
    "                       'Ed_March': 'Ed_March', 'Last_Test': 'Last_Test', 'Max_Lead': 'Max_Lead',\n",
    "                       'Med_Lead': 'Med_Lead', 'Num_Tests': 'Num_Tests', 'Res_Test': 'Res_Test',\n",
    "                       'Sen_Test': 'Sen_Test', 'SL_private': 'SL_private_inspection',\n",
    "                       'B_median_a': 'B_median_age_all_women', 'B_median_1': 'B_median_age_all_men', \n",
    "                       'B_median_2': 'B_median_age_all', 'B_median_3': 'B_median_age_all_women_white',\n",
    "                       'B_median_4': 'B_median_age_all_men_white', 'B_median_5': 'B_median_age_all_white',\n",
    "                       'B_median_6': 'B_median_age_all_women_black', 'B_median_7': 'B_median_age_all_men_black',\n",
    "                       'B_median_8': 'B_median_age_all_black', 'B_total_bl': 'B_total_black_pop',\n",
    "                       'B_total_wh': 'B_total_white_pop', 'B_married_': 'B_married_couples',\n",
    "                       'B_single_w': 'B_single_women', 'B_marrie_1': 'B_married_couples_white',\n",
    "                       'B_single_1': 'B_single_women_white', 'B_marrie_2': 'B_married_couples_black',\n",
    "                       'B_single_2': 'B_single_women_black', 'B_marrie_3': 'B_married_couples_w_children',\n",
    "                       'B_single_m': 'B_single_mothers_w_children', 'B_househol': 'B_households_w_elderly',\n",
    "                       'B_househod': 'B_househod_no_elderly', 'B_aggregat': 'B_aggregate_income',\n",
    "                       'B_speak_sp': 'B_speak_spanish', 'B_speak_on': 'B_speak_only_english',\n",
    "                       'B_no_engli': 'B_no_english', 'B_hispanic': 'B_hispanic_household',\n",
    "                       'B_imputed_': 'B_imputed_rent', 'B_impute_1': 'B_imputed_value',\n",
    "                       'known_priv': 'known_private_sl', 'known_publ': 'known_public_sl', 'hydrovac': 'hydrovac',\n",
    "                       'sl_priva_1': 'sl_private_type', 'sl_public_': 'sl_public_type', 'created_at': 'created_at',\n",
    "                       'source': 'source', 'hv_visit': 'hv_visit', 'sl_visit': 'sl_visit', 'replaced': 'replaced',\n",
    "                       'dangerous': 'dangerous', 'geometry': 'geometry'}\n",
    "sl_df = gpd.read_file('../data/raw/flint_sl_materials/')\n",
    "sl_df = sl_df.rename(col_name_dictionary, axis=1)\n"
   ]
  },
  {
   "cell_type": "code",
   "execution_count": 3,
   "id": "hungarian-synthetic",
   "metadata": {},
   "outputs": [
    {
     "data": {
      "text/html": [
       "<div>\n",
       "<style scoped>\n",
       "    .dataframe tbody tr th:only-of-type {\n",
       "        vertical-align: middle;\n",
       "    }\n",
       "\n",
       "    .dataframe tbody tr th {\n",
       "        vertical-align: top;\n",
       "    }\n",
       "\n",
       "    .dataframe thead th {\n",
       "        text-align: right;\n",
       "    }\n",
       "</style>\n",
       "<table border=\"1\" class=\"dataframe\">\n",
       "  <thead>\n",
       "    <tr style=\"text-align: right;\">\n",
       "      <th></th>\n",
       "      <th>Longitude</th>\n",
       "      <th>Latitude</th>\n",
       "    </tr>\n",
       "  </thead>\n",
       "  <tbody>\n",
       "    <tr>\n",
       "      <th>0</th>\n",
       "      <td>-83.693510</td>\n",
       "      <td>43.020281</td>\n",
       "    </tr>\n",
       "    <tr>\n",
       "      <th>1</th>\n",
       "      <td>-83.675673</td>\n",
       "      <td>43.007746</td>\n",
       "    </tr>\n",
       "    <tr>\n",
       "      <th>2</th>\n",
       "      <td>-83.690564</td>\n",
       "      <td>43.053939</td>\n",
       "    </tr>\n",
       "    <tr>\n",
       "      <th>3</th>\n",
       "      <td>-83.683503</td>\n",
       "      <td>42.995152</td>\n",
       "    </tr>\n",
       "    <tr>\n",
       "      <th>4</th>\n",
       "      <td>-83.675673</td>\n",
       "      <td>43.007746</td>\n",
       "    </tr>\n",
       "    <tr>\n",
       "      <th>...</th>\n",
       "      <td>...</td>\n",
       "      <td>...</td>\n",
       "    </tr>\n",
       "    <tr>\n",
       "      <th>55853</th>\n",
       "      <td>-83.764663</td>\n",
       "      <td>42.962920</td>\n",
       "    </tr>\n",
       "    <tr>\n",
       "      <th>55854</th>\n",
       "      <td>-83.764663</td>\n",
       "      <td>42.962920</td>\n",
       "    </tr>\n",
       "    <tr>\n",
       "      <th>55855</th>\n",
       "      <td>-83.623593</td>\n",
       "      <td>42.960681</td>\n",
       "    </tr>\n",
       "    <tr>\n",
       "      <th>55856</th>\n",
       "      <td>-83.732237</td>\n",
       "      <td>42.954848</td>\n",
       "    </tr>\n",
       "    <tr>\n",
       "      <th>55857</th>\n",
       "      <td>-83.760515</td>\n",
       "      <td>43.032727</td>\n",
       "    </tr>\n",
       "  </tbody>\n",
       "</table>\n",
       "<p>55847 rows × 2 columns</p>\n",
       "</div>"
      ],
      "text/plain": [
       "       Longitude   Latitude\n",
       "0     -83.693510  43.020281\n",
       "1     -83.675673  43.007746\n",
       "2     -83.690564  43.053939\n",
       "3     -83.683503  42.995152\n",
       "4     -83.675673  43.007746\n",
       "...          ...        ...\n",
       "55853 -83.764663  42.962920\n",
       "55854 -83.764663  42.962920\n",
       "55855 -83.623593  42.960681\n",
       "55856 -83.732237  42.954848\n",
       "55857 -83.760515  43.032727\n",
       "\n",
       "[55847 rows x 2 columns]"
      ]
     },
     "execution_count": 3,
     "metadata": {},
     "output_type": "execute_result"
    }
   ],
   "source": [
    "sl_df = sl_df[sl_df['Longitude'].isna()==False]\n",
    "sl_df[['Longitude', 'Latitude']]"
   ]
  },
  {
   "cell_type": "code",
   "execution_count": 4,
   "id": "documented-cleaners",
   "metadata": {},
   "outputs": [
    {
     "data": {
      "text/plain": [
       "0         -83.69351,43.020281\n",
       "1        -83.675673,43.007746\n",
       "2        -83.690564,43.053939\n",
       "3        -83.683503,42.995152\n",
       "4        -83.675673,43.007746\n",
       "                 ...         \n",
       "55853     -83.764663,42.96292\n",
       "55854     -83.764663,42.96292\n",
       "55855    -83.623592,42.960681\n",
       "55856    -83.732237,42.954848\n",
       "55857    -83.760515,43.032727\n",
       "Name: longlatstr, Length: 55847, dtype: object"
      ]
     },
     "execution_count": 4,
     "metadata": {},
     "output_type": "execute_result"
    }
   ],
   "source": [
    "sl_df['longlatstr'] = sl_df['Longitude'].round(6).astype(str) + ',' + sl_df['Latitude'].round(6).astype(str)\n",
    "sl_df['longlatstr']"
   ]
  },
  {
   "cell_type": "code",
   "execution_count": 11,
   "id": "agreed-favorite",
   "metadata": {},
   "outputs": [
    {
     "name": "stdout",
     "output_type": "stream",
     "text": [
      "http://54.87.118.0:5000/table/v1/driving/-83.703084,43.018999;-83.738798,43.018999?sources=0\n",
      "CPU times: user 13.9 ms, sys: 1.34 ms, total: 15.3 ms\n",
      "Wall time: 57.7 ms\n"
     ]
    },
    {
     "data": {
      "text/plain": [
       "[[0, 520.9]]"
      ]
     },
     "execution_count": 11,
     "metadata": {},
     "output_type": "execute_result"
    }
   ],
   "source": [
    "%%time\n",
    "#Longitude,Latitude\n",
    "longlatlist = [\"-83.738798,43.018999\"] \n",
    "\n",
    "longstr = ''\n",
    "for i, c in enumerate(longlatlist):\n",
    "    if i == 0:\n",
    "        longstr = c\n",
    "    else:\n",
    "        longstr += ';' + c\n",
    "\n",
    "ip_add = \"54.87.118.0\"\n",
    "init_long_lat = \"-83.703084,43.018999\"\n",
    "how = \"driving\" #\"walking\" or \"driving\"\n",
    "url = f\"http://{ip_add}:5000/table/v1/{how}/{init_long_lat};{longstr}?sources=0\"\n",
    "print(url)\n",
    "r = requests.get(url)\n",
    "output = r.json()\n",
    "#output['durations'] # output is in seconds\n",
    "output['durations']"
   ]
  },
  {
   "cell_type": "code",
   "execution_count": 12,
   "id": "sixth-alarm",
   "metadata": {},
   "outputs": [
    {
     "name": "stdout",
     "output_type": "stream",
     "text": [
      "http://54.87.118.0:5000/table/v1/walking/-83.703084,43.018999;-83.738798,43.018999?sources=0\n",
      "CPU times: user 10.2 ms, sys: 0 ns, total: 10.2 ms\n",
      "Wall time: 44.8 ms\n"
     ]
    },
    {
     "data": {
      "text/plain": [
       "[[0, 520.9]]"
      ]
     },
     "execution_count": 12,
     "metadata": {},
     "output_type": "execute_result"
    }
   ],
   "source": [
    "%%time\n",
    "#Longitude,Latitude\n",
    "longlatlist = [\"-83.738798,43.018999\"] \n",
    "\n",
    "def make_string(longlatlist):\n",
    "    longstr = ''\n",
    "    for i, c in enumerate(longlatlist):\n",
    "        if i == 0:\n",
    "            longstr = c\n",
    "        else:\n",
    "            longstr += ';' + c\n",
    "    return longstr\n",
    "        \n",
    "longstr = make_string(longlatlist)\n",
    "ip_add = \"54.87.118.0\"\n",
    "init_long_lat = \"-83.703084,43.018999\"\n",
    "how = \"walking\" #\"walking\" or \"driving\"\n",
    "url = f\"http://{ip_add}:5000/table/v1/{how}/{init_long_lat};{longstr}?sources=0\"\n",
    "print(url)\n",
    "r = requests.get(url)\n",
    "output = r.json()\n",
    "#output['durations'] # output is in seconds\n",
    "output['durations']"
   ]
  },
  {
   "cell_type": "code",
   "execution_count": 13,
   "id": "elder-wagon",
   "metadata": {},
   "outputs": [
    {
     "name": "stdout",
     "output_type": "stream",
     "text": [
      "CPU times: user 0 ns, sys: 8.64 ms, total: 8.64 ms\n",
      "Wall time: 52.4 ms\n"
     ]
    },
    {
     "data": {
      "text/plain": [
       "[[0, 109.8, 303.8, 390.1, 294.9, 303.8, 223.7, 442.1, 116.8, 442.1, 309.2]]"
      ]
     },
     "execution_count": 13,
     "metadata": {},
     "output_type": "execute_result"
    }
   ],
   "source": [
    "%%time\n",
    "new_ll_list = list(sl_df['longlatstr'].values[:10])\n",
    "        \n",
    "longstr = make_string(new_ll_list)\n",
    "ip_add = \"54.87.118.0\"\n",
    "init_long_lat = \"-83.703084,43.018999\"\n",
    "how = \"walking\" #\"walking\" or \"driving\"\n",
    "url = f\"http://{ip_add}:5000/table/v1/{how}/{init_long_lat};{longstr}?sources=0\"\n",
    "r = requests.get(url)\n",
    "output = r.json()\n",
    "output['durations'] # output is in seconds\n",
    "#output\n",
    "#url[30933-20:30937+20]"
   ]
  },
  {
   "cell_type": "code",
   "execution_count": 5,
   "id": "faced-syndication",
   "metadata": {},
   "outputs": [],
   "source": [
    "sl_df = sl_df[~pd.isnull(sl_df.dangerous)].reset_index()"
   ]
  },
  {
   "cell_type": "code",
   "execution_count": 26,
   "id": "theoretical-responsibility",
   "metadata": {
    "scrolled": true
   },
   "outputs": [
    {
     "name": "stdout",
     "output_type": "stream",
     "text": [
      "1\n",
      "1001\n"
     ]
    },
    {
     "ename": "KeyboardInterrupt",
     "evalue": "",
     "output_type": "error",
     "traceback": [
      "\u001b[0;31m---------------------------------------------------------------------------\u001b[0m",
      "\u001b[0;31mKeyboardInterrupt\u001b[0m                         Traceback (most recent call last)",
      "\u001b[0;32m<timed exec>\u001b[0m in \u001b[0;36m<module>\u001b[0;34m\u001b[0m\n",
      "\u001b[0;32m<__array_function__ internals>\u001b[0m in \u001b[0;36mconcatenate\u001b[0;34m(*args, **kwargs)\u001b[0m\n",
      "\u001b[0;31mKeyboardInterrupt\u001b[0m: "
     ]
    }
   ],
   "source": [
    "%%time\n",
    "x = sl_df[['Longitude', 'Latitude']].values\n",
    "y = sl_df[['Longitude', 'Latitude']].values\n",
    "for i in range(len(x)):\n",
    "    if i % 1000 == 0:\n",
    "        print(i+1)\n",
    "    base = x[i]\n",
    "    dist = np.linalg.norm(base - y, axis=1)\n",
    "    if i == 0:\n",
    "        dist_arr = np.array(dist).reshape(-1,1)\n",
    "    else:\n",
    "        dist_arr = np.concatenate([dist_arr, dist.reshape(-1,1)], axis=1)\n",
    "dist_arr.shape"
   ]
  },
  {
   "cell_type": "code",
   "execution_count": 22,
   "id": "monetary-stuff",
   "metadata": {},
   "outputs": [
    {
     "data": {
      "text/plain": [
       "0.21485600000000002"
      ]
     },
     "execution_count": 22,
     "metadata": {},
     "output_type": "execute_result"
    }
   ],
   "source": [
    "dist_arr.nbytes*1e-9"
   ]
  },
  {
   "cell_type": "code",
   "execution_count": 6,
   "id": "sized-withdrawal",
   "metadata": {},
   "outputs": [
    {
     "data": {
      "text/plain": [
       "3119222500"
      ]
     },
     "execution_count": 6,
     "metadata": {},
     "output_type": "execute_result"
    }
   ],
   "source": [
    "55850*55850"
   ]
  },
  {
   "cell_type": "code",
   "execution_count": null,
   "id": "charitable-anderson",
   "metadata": {},
   "outputs": [],
   "source": [
    "del dist_"
   ]
  }
 ],
 "metadata": {
  "kernelspec": {
   "display_name": "Python 3",
   "language": "python",
   "name": "python3"
  },
  "language_info": {
   "codemirror_mode": {
    "name": "ipython",
    "version": 3
   },
   "file_extension": ".py",
   "mimetype": "text/x-python",
   "name": "python",
   "nbconvert_exporter": "python",
   "pygments_lexer": "ipython3",
   "version": "3.8.5"
  }
 },
 "nbformat": 4,
 "nbformat_minor": 5
}
